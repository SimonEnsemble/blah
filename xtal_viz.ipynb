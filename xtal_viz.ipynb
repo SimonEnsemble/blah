{
 "cells": [
  {
   "cell_type": "code",
   "execution_count": 1,
   "metadata": {},
   "outputs": [
    {
     "name": "stderr",
     "output_type": "stream",
     "text": [
      "┌ Info: Precompiling Bio3DView [99c8bb3a-9d13-5280-9740-b4880ed9c598]\n",
      "└ @ Base loading.jl:1278\n"
     ]
    }
   ],
   "source": [
    "using Bio3DView"
   ]
  },
  {
   "cell_type": "code",
   "execution_count": 23,
   "metadata": {},
   "outputs": [],
   "source": [
    "s = viewfile(\"IRMOF-1.xyz\", \"xyz\"; \n",
    "    vtkcell=\"IRMOF-1.vtk\", html=true, \n",
    "    style=Style(\"sphere\", Dict(\"colorscheme\"=> \"Jmol\")))\n",
    "f = open(\"irmof-1.html\", \"w\")\n",
    "write(f, s)\n",
    "close(f)\n",
    "print(\"edit manually <div style='height: to match index.html\")\n",
    "#             axes=Axes(5, 0.3), cameraangle=CameraAngle(0, 0, 0, 0, 0, 0, 0, 1)"
   ]
  },
  {
   "cell_type": "code",
   "execution_count": null,
   "metadata": {},
   "outputs": [],
   "source": []
  }
 ],
 "metadata": {
  "kernelspec": {
   "display_name": "Julia 1.5.0",
   "language": "julia",
   "name": "julia-1.5"
  },
  "language_info": {
   "file_extension": ".jl",
   "mimetype": "application/julia",
   "name": "julia",
   "version": "1.5.0"
  }
 },
 "nbformat": 4,
 "nbformat_minor": 2
}
